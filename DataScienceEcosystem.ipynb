{
 "cells": [
  {
   "cell_type": "markdown",
   "id": "d89b1f50-2d93-4070-9f18-5c07482ddf01",
   "metadata": {},
   "source": [
    "# Data Science Tools and Ecosystem"
   ]
  },
  {
   "cell_type": "markdown",
   "id": "6e992da2-67bd-4319-a58a-2baeadafff01",
   "metadata": {},
   "source": [
    "In this notebook, Data Science Tools and Ecosystem are summarized."
   ]
  },
  {
   "cell_type": "markdown",
   "id": "7a6a83da-a792-4a24-b03a-89110fc35d11",
   "metadata": {},
   "source": [
    "Some of the popular languages that Data Scientists use are:\n",
    "1. Python\n",
    "2. SQL\n",
    "3. R\n",
    "4. Julia"
   ]
  },
  {
   "cell_type": "markdown",
   "id": "24e444e3-6514-49eb-8eff-47305ce74dee",
   "metadata": {},
   "source": [
    "Some of the commonly used libraries used by Data Scientists include:\n",
    "- NumPy\n",
    "- Pandas\n",
    "- Matplotlib\n",
    "- Scikit-learn\n",
    "- TensorFlow"
   ]
  },
  {
   "cell_type": "markdown",
   "id": "b730b398-deeb-42c4-9b69-363c71b70872",
   "metadata": {},
   "source": [
    "| Data Science Tools |\n",
    "|:-------------------|\n",
    "| Jupyter Notebook   |\n",
    "| RStudio            |\n",
    "| Visual Studio Code |\n"
   ]
  },
  {
   "cell_type": "markdown",
   "id": "b98fee67-68c5-4d7c-a4b1-f7605f39c53b",
   "metadata": {},
   "source": [
    "### Below are a few examples of evaluating arithmetic expressions in Python."
   ]
  },
  {
   "cell_type": "code",
   "execution_count": 3,
   "id": "f7d7a628-c551-4550-9d23-3a345642bb4c",
   "metadata": {},
   "outputs": [
    {
     "data": {
      "text/plain": [
       "17"
      ]
     },
     "execution_count": 3,
     "metadata": {},
     "output_type": "execute_result"
    }
   ],
   "source": [
    "# This a simple arithmetic expression to mutiply then add integers\n",
    "(3*4)+5"
   ]
  },
  {
   "cell_type": "code",
   "execution_count": 8,
   "id": "bea6ee1b-cf77-40d4-9a8d-49db416cd10c",
   "metadata": {},
   "outputs": [
    {
     "data": {
      "text/plain": [
       "3"
      ]
     },
     "execution_count": 8,
     "metadata": {},
     "output_type": "execute_result"
    }
   ],
   "source": [
    "# This will convert 200 minutes to hours by diving by 60\n",
    "200 // 60"
   ]
  },
  {
   "cell_type": "markdown",
   "id": "ff56d194-b802-43ed-b45d-8d18dfb710fb",
   "metadata": {},
   "source": [
    "**Objectives:**\n",
    "\n",
    "- List popular languages for Data Science\n",
    "- Demonstrate arithmetic expressions in Python\n",
    "- Understand different open-source enviroments for Data Science"
   ]
  },
  {
   "cell_type": "markdown",
   "id": "e2a2580d-4ca8-4fdb-8f8f-9eff844bb56a",
   "metadata": {},
   "source": [
    "## Author Nikhil Kolasani"
   ]
  },
  {
   "cell_type": "code",
   "execution_count": null,
   "id": "3644dae7-28c1-4189-8c50-8f23e40e9ed0",
   "metadata": {},
   "outputs": [],
   "source": []
  }
 ],
 "metadata": {
  "kernelspec": {
   "display_name": "Python 3 (ipykernel)",
   "language": "python",
   "name": "python3"
  },
  "language_info": {
   "codemirror_mode": {
    "name": "ipython",
    "version": 3
   },
   "file_extension": ".py",
   "mimetype": "text/x-python",
   "name": "python",
   "nbconvert_exporter": "python",
   "pygments_lexer": "ipython3",
   "version": "3.12.7"
  }
 },
 "nbformat": 4,
 "nbformat_minor": 5
}
